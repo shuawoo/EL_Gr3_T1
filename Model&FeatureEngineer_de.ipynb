{
 "cells": [
  {
   "cell_type": "code",
   "execution_count": 1,
   "metadata": {},
   "outputs": [],
   "source": [
    "import pandas as pd"
   ]
  },
  {
   "cell_type": "markdown",
   "metadata": {},
   "source": [
    "# DE"
   ]
  },
  {
   "cell_type": "code",
   "execution_count": 2,
   "metadata": {},
   "outputs": [
    {
     "data": {
      "text/html": [
       "<div>\n",
       "<style scoped>\n",
       "    .dataframe tbody tr th:only-of-type {\n",
       "        vertical-align: middle;\n",
       "    }\n",
       "\n",
       "    .dataframe tbody tr th {\n",
       "        vertical-align: top;\n",
       "    }\n",
       "\n",
       "    .dataframe thead th {\n",
       "        text-align: right;\n",
       "    }\n",
       "</style>\n",
       "<table border=\"1\" class=\"dataframe\">\n",
       "  <thead>\n",
       "    <tr style=\"text-align: right;\">\n",
       "      <th></th>\n",
       "      <th>ID</th>\n",
       "      <th>DAY_ID</th>\n",
       "      <th>DE_CONSUMPTION</th>\n",
       "      <th>DE_FR_EXCHANGE</th>\n",
       "      <th>DE_NET_EXPORT</th>\n",
       "      <th>DE_NET_IMPORT</th>\n",
       "      <th>DE_GAS</th>\n",
       "      <th>DE_COAL</th>\n",
       "      <th>DE_HYDRO</th>\n",
       "      <th>DE_NUCLEAR</th>\n",
       "      <th>...</th>\n",
       "      <th>DE_WINDPOW</th>\n",
       "      <th>DE_LIGNITE</th>\n",
       "      <th>DE_RESIDUAL_LOAD</th>\n",
       "      <th>DE_RAIN</th>\n",
       "      <th>DE_WIND</th>\n",
       "      <th>DE_TEMP</th>\n",
       "      <th>GAS_RET</th>\n",
       "      <th>COAL_RET</th>\n",
       "      <th>CARBON_RET</th>\n",
       "      <th>TARGET</th>\n",
       "    </tr>\n",
       "  </thead>\n",
       "  <tbody>\n",
       "    <tr>\n",
       "      <th>851</th>\n",
       "      <td>111</td>\n",
       "      <td>2</td>\n",
       "      <td>-0.068972</td>\n",
       "      <td>-1.102015</td>\n",
       "      <td>-1.080403</td>\n",
       "      <td>1.080403</td>\n",
       "      <td>1.228079</td>\n",
       "      <td>-0.247704</td>\n",
       "      <td>1.785758</td>\n",
       "      <td>0.064726</td>\n",
       "      <td>...</td>\n",
       "      <td>-0.421844</td>\n",
       "      <td>-0.471366</td>\n",
       "      <td>0.398812</td>\n",
       "      <td>-0.344600</td>\n",
       "      <td>-0.623041</td>\n",
       "      <td>-0.148950</td>\n",
       "      <td>1.802550</td>\n",
       "      <td>1.140920</td>\n",
       "      <td>0.900434</td>\n",
       "      <td>0.861270</td>\n",
       "    </tr>\n",
       "    <tr>\n",
       "      <th>852</th>\n",
       "      <td>800</td>\n",
       "      <td>3</td>\n",
       "      <td>-0.134670</td>\n",
       "      <td>-1.051716</td>\n",
       "      <td>-1.881881</td>\n",
       "      <td>1.881881</td>\n",
       "      <td>1.588542</td>\n",
       "      <td>-0.635452</td>\n",
       "      <td>1.994144</td>\n",
       "      <td>-2.002323</td>\n",
       "      <td>...</td>\n",
       "      <td>-1.142488</td>\n",
       "      <td>-0.169336</td>\n",
       "      <td>0.275487</td>\n",
       "      <td>-1.394561</td>\n",
       "      <td>0.244859</td>\n",
       "      <td>-1.710888</td>\n",
       "      <td>0.440121</td>\n",
       "      <td>-0.064550</td>\n",
       "      <td>-0.032756</td>\n",
       "      <td>7.138604</td>\n",
       "    </tr>\n",
       "    <tr>\n",
       "      <th>853</th>\n",
       "      <td>831</td>\n",
       "      <td>5</td>\n",
       "      <td>-0.297850</td>\n",
       "      <td>0.144615</td>\n",
       "      <td>-1.208286</td>\n",
       "      <td>1.208286</td>\n",
       "      <td>1.059828</td>\n",
       "      <td>-0.072071</td>\n",
       "      <td>1.275857</td>\n",
       "      <td>-1.875681</td>\n",
       "      <td>...</td>\n",
       "      <td>-0.892244</td>\n",
       "      <td>-0.279690</td>\n",
       "      <td>-0.031595</td>\n",
       "      <td>-1.374757</td>\n",
       "      <td>0.333817</td>\n",
       "      <td>-0.062187</td>\n",
       "      <td>-0.117977</td>\n",
       "      <td>0.550433</td>\n",
       "      <td>0.781870</td>\n",
       "      <td>0.026374</td>\n",
       "    </tr>\n",
       "    <tr>\n",
       "      <th>854</th>\n",
       "      <td>779</td>\n",
       "      <td>7</td>\n",
       "      <td>0.057599</td>\n",
       "      <td>0.002239</td>\n",
       "      <td>-0.676226</td>\n",
       "      <td>0.676226</td>\n",
       "      <td>0.386191</td>\n",
       "      <td>0.255380</td>\n",
       "      <td>0.281094</td>\n",
       "      <td>-1.887303</td>\n",
       "      <td>...</td>\n",
       "      <td>-0.876909</td>\n",
       "      <td>0.108801</td>\n",
       "      <td>0.142427</td>\n",
       "      <td>-0.531862</td>\n",
       "      <td>0.098940</td>\n",
       "      <td>-0.812164</td>\n",
       "      <td>-0.379980</td>\n",
       "      <td>0.518459</td>\n",
       "      <td>-0.034642</td>\n",
       "      <td>-0.021227</td>\n",
       "    </tr>\n",
       "    <tr>\n",
       "      <th>855</th>\n",
       "      <td>841</td>\n",
       "      <td>8</td>\n",
       "      <td>-0.282744</td>\n",
       "      <td>1.309253</td>\n",
       "      <td>0.248085</td>\n",
       "      <td>-0.248085</td>\n",
       "      <td>0.955400</td>\n",
       "      <td>-0.234473</td>\n",
       "      <td>0.385716</td>\n",
       "      <td>-1.889094</td>\n",
       "      <td>...</td>\n",
       "      <td>0.274719</td>\n",
       "      <td>-0.245104</td>\n",
       "      <td>-0.508221</td>\n",
       "      <td>1.522720</td>\n",
       "      <td>1.690497</td>\n",
       "      <td>-0.441943</td>\n",
       "      <td>1.557325</td>\n",
       "      <td>0.146634</td>\n",
       "      <td>2.329924</td>\n",
       "      <td>0.042996</td>\n",
       "    </tr>\n",
       "    <tr>\n",
       "      <th>...</th>\n",
       "      <td>...</td>\n",
       "      <td>...</td>\n",
       "      <td>...</td>\n",
       "      <td>...</td>\n",
       "      <td>...</td>\n",
       "      <td>...</td>\n",
       "      <td>...</td>\n",
       "      <td>...</td>\n",
       "      <td>...</td>\n",
       "      <td>...</td>\n",
       "      <td>...</td>\n",
       "      <td>...</td>\n",
       "      <td>...</td>\n",
       "      <td>...</td>\n",
       "      <td>...</td>\n",
       "      <td>...</td>\n",
       "      <td>...</td>\n",
       "      <td>...</td>\n",
       "      <td>...</td>\n",
       "      <td>...</td>\n",
       "      <td>...</td>\n",
       "    </tr>\n",
       "    <tr>\n",
       "      <th>1489</th>\n",
       "      <td>282</td>\n",
       "      <td>1202</td>\n",
       "      <td>-1.182561</td>\n",
       "      <td>-1.201004</td>\n",
       "      <td>-1.616737</td>\n",
       "      <td>1.616737</td>\n",
       "      <td>-0.052984</td>\n",
       "      <td>-1.334403</td>\n",
       "      <td>0.109583</td>\n",
       "      <td>-1.312022</td>\n",
       "      <td>...</td>\n",
       "      <td>0.116425</td>\n",
       "      <td>-2.701475</td>\n",
       "      <td>-1.033438</td>\n",
       "      <td>-0.085663</td>\n",
       "      <td>-0.595651</td>\n",
       "      <td>0.039450</td>\n",
       "      <td>0.184767</td>\n",
       "      <td>0.257420</td>\n",
       "      <td>0.507079</td>\n",
       "      <td>-0.091774</td>\n",
       "    </tr>\n",
       "    <tr>\n",
       "      <th>1490</th>\n",
       "      <td>505</td>\n",
       "      <td>1207</td>\n",
       "      <td>1.002463</td>\n",
       "      <td>0.651648</td>\n",
       "      <td>0.728817</td>\n",
       "      <td>-0.728817</td>\n",
       "      <td>0.321619</td>\n",
       "      <td>-1.061328</td>\n",
       "      <td>0.086429</td>\n",
       "      <td>-0.572800</td>\n",
       "      <td>...</td>\n",
       "      <td>1.799559</td>\n",
       "      <td>-1.963002</td>\n",
       "      <td>-1.238062</td>\n",
       "      <td>-0.222964</td>\n",
       "      <td>0.371728</td>\n",
       "      <td>0.355241</td>\n",
       "      <td>0.099209</td>\n",
       "      <td>1.750872</td>\n",
       "      <td>0.646905</td>\n",
       "      <td>-1.324555</td>\n",
       "    </tr>\n",
       "    <tr>\n",
       "      <th>1491</th>\n",
       "      <td>823</td>\n",
       "      <td>1208</td>\n",
       "      <td>0.046568</td>\n",
       "      <td>0.427976</td>\n",
       "      <td>-0.578391</td>\n",
       "      <td>0.578391</td>\n",
       "      <td>1.391369</td>\n",
       "      <td>0.069929</td>\n",
       "      <td>1.620765</td>\n",
       "      <td>-1.891245</td>\n",
       "      <td>...</td>\n",
       "      <td>-0.572220</td>\n",
       "      <td>0.141485</td>\n",
       "      <td>0.151799</td>\n",
       "      <td>-1.224735</td>\n",
       "      <td>0.472212</td>\n",
       "      <td>1.065727</td>\n",
       "      <td>0.291714</td>\n",
       "      <td>0.568479</td>\n",
       "      <td>0.395742</td>\n",
       "      <td>0.060380</td>\n",
       "    </tr>\n",
       "    <tr>\n",
       "      <th>1492</th>\n",
       "      <td>771</td>\n",
       "      <td>1212</td>\n",
       "      <td>-0.046100</td>\n",
       "      <td>-0.270515</td>\n",
       "      <td>-0.137917</td>\n",
       "      <td>0.137917</td>\n",
       "      <td>0.231723</td>\n",
       "      <td>-0.491812</td>\n",
       "      <td>-0.441138</td>\n",
       "      <td>-1.885215</td>\n",
       "      <td>...</td>\n",
       "      <td>-0.245558</td>\n",
       "      <td>-0.159332</td>\n",
       "      <td>-0.623925</td>\n",
       "      <td>-0.039379</td>\n",
       "      <td>1.358211</td>\n",
       "      <td>-0.707839</td>\n",
       "      <td>0.017778</td>\n",
       "      <td>0.072168</td>\n",
       "      <td>-0.160792</td>\n",
       "      <td>-0.144320</td>\n",
       "    </tr>\n",
       "    <tr>\n",
       "      <th>1493</th>\n",
       "      <td>472</td>\n",
       "      <td>1213</td>\n",
       "      <td>1.407027</td>\n",
       "      <td>-0.456126</td>\n",
       "      <td>0.333142</td>\n",
       "      <td>-0.333142</td>\n",
       "      <td>1.781433</td>\n",
       "      <td>-0.451947</td>\n",
       "      <td>-0.749000</td>\n",
       "      <td>0.142984</td>\n",
       "      <td>...</td>\n",
       "      <td>0.531472</td>\n",
       "      <td>0.414313</td>\n",
       "      <td>0.849643</td>\n",
       "      <td>-0.342771</td>\n",
       "      <td>0.227416</td>\n",
       "      <td>-0.477558</td>\n",
       "      <td>-0.103642</td>\n",
       "      <td>-0.633007</td>\n",
       "      <td>0.214805</td>\n",
       "      <td>0.147587</td>\n",
       "    </tr>\n",
       "  </tbody>\n",
       "</table>\n",
       "<p>643 rows × 21 columns</p>\n",
       "</div>"
      ],
      "text/plain": [
       "       ID  DAY_ID  DE_CONSUMPTION  DE_FR_EXCHANGE  DE_NET_EXPORT  \\\n",
       "851   111       2       -0.068972       -1.102015      -1.080403   \n",
       "852   800       3       -0.134670       -1.051716      -1.881881   \n",
       "853   831       5       -0.297850        0.144615      -1.208286   \n",
       "854   779       7        0.057599        0.002239      -0.676226   \n",
       "855   841       8       -0.282744        1.309253       0.248085   \n",
       "...   ...     ...             ...             ...            ...   \n",
       "1489  282    1202       -1.182561       -1.201004      -1.616737   \n",
       "1490  505    1207        1.002463        0.651648       0.728817   \n",
       "1491  823    1208        0.046568        0.427976      -0.578391   \n",
       "1492  771    1212       -0.046100       -0.270515      -0.137917   \n",
       "1493  472    1213        1.407027       -0.456126       0.333142   \n",
       "\n",
       "      DE_NET_IMPORT    DE_GAS   DE_COAL  DE_HYDRO  DE_NUCLEAR  ...  \\\n",
       "851        1.080403  1.228079 -0.247704  1.785758    0.064726  ...   \n",
       "852        1.881881  1.588542 -0.635452  1.994144   -2.002323  ...   \n",
       "853        1.208286  1.059828 -0.072071  1.275857   -1.875681  ...   \n",
       "854        0.676226  0.386191  0.255380  0.281094   -1.887303  ...   \n",
       "855       -0.248085  0.955400 -0.234473  0.385716   -1.889094  ...   \n",
       "...             ...       ...       ...       ...         ...  ...   \n",
       "1489       1.616737 -0.052984 -1.334403  0.109583   -1.312022  ...   \n",
       "1490      -0.728817  0.321619 -1.061328  0.086429   -0.572800  ...   \n",
       "1491       0.578391  1.391369  0.069929  1.620765   -1.891245  ...   \n",
       "1492       0.137917  0.231723 -0.491812 -0.441138   -1.885215  ...   \n",
       "1493      -0.333142  1.781433 -0.451947 -0.749000    0.142984  ...   \n",
       "\n",
       "      DE_WINDPOW  DE_LIGNITE  DE_RESIDUAL_LOAD   DE_RAIN   DE_WIND   DE_TEMP  \\\n",
       "851    -0.421844   -0.471366          0.398812 -0.344600 -0.623041 -0.148950   \n",
       "852    -1.142488   -0.169336          0.275487 -1.394561  0.244859 -1.710888   \n",
       "853    -0.892244   -0.279690         -0.031595 -1.374757  0.333817 -0.062187   \n",
       "854    -0.876909    0.108801          0.142427 -0.531862  0.098940 -0.812164   \n",
       "855     0.274719   -0.245104         -0.508221  1.522720  1.690497 -0.441943   \n",
       "...          ...         ...               ...       ...       ...       ...   \n",
       "1489    0.116425   -2.701475         -1.033438 -0.085663 -0.595651  0.039450   \n",
       "1490    1.799559   -1.963002         -1.238062 -0.222964  0.371728  0.355241   \n",
       "1491   -0.572220    0.141485          0.151799 -1.224735  0.472212  1.065727   \n",
       "1492   -0.245558   -0.159332         -0.623925 -0.039379  1.358211 -0.707839   \n",
       "1493    0.531472    0.414313          0.849643 -0.342771  0.227416 -0.477558   \n",
       "\n",
       "       GAS_RET  COAL_RET  CARBON_RET    TARGET  \n",
       "851   1.802550  1.140920    0.900434  0.861270  \n",
       "852   0.440121 -0.064550   -0.032756  7.138604  \n",
       "853  -0.117977  0.550433    0.781870  0.026374  \n",
       "854  -0.379980  0.518459   -0.034642 -0.021227  \n",
       "855   1.557325  0.146634    2.329924  0.042996  \n",
       "...        ...       ...         ...       ...  \n",
       "1489  0.184767  0.257420    0.507079 -0.091774  \n",
       "1490  0.099209  1.750872    0.646905 -1.324555  \n",
       "1491  0.291714  0.568479    0.395742  0.060380  \n",
       "1492  0.017778  0.072168   -0.160792 -0.144320  \n",
       "1493 -0.103642 -0.633007    0.214805  0.147587  \n",
       "\n",
       "[643 rows x 21 columns]"
      ]
     },
     "execution_count": 2,
     "metadata": {},
     "output_type": "execute_result"
    }
   ],
   "source": [
    "de_train = pd.read_csv('de_train_DAY.csv', index_col=0)\n",
    "de_train"
   ]
  },
  {
   "cell_type": "code",
   "execution_count": 3,
   "metadata": {},
   "outputs": [
    {
     "name": "stdout",
     "output_type": "stream",
     "text": [
      "Index(['ID', 'DAY_ID', 'DE_CONSUMPTION', 'DE_FR_EXCHANGE', 'DE_NET_EXPORT',\n",
      "       'DE_NET_IMPORT', 'DE_GAS', 'DE_COAL', 'DE_HYDRO', 'DE_NUCLEAR',\n",
      "       'DE_SOLAR', 'DE_WINDPOW', 'DE_LIGNITE', 'DE_RESIDUAL_LOAD', 'DE_RAIN',\n",
      "       'DE_WIND', 'DE_TEMP', 'GAS_RET', 'COAL_RET', 'CARBON_RET', 'TARGET'],\n",
      "      dtype='object')\n"
     ]
    }
   ],
   "source": [
    "print(de_train.columns)"
   ]
  },
  {
   "cell_type": "markdown",
   "metadata": {},
   "source": [
    "# Feature Engineering"
   ]
  },
  {
   "cell_type": "code",
   "execution_count": 4,
   "metadata": {},
   "outputs": [],
   "source": [
    "de_train['NEW_ENERGY'] = de_train['DE_HYDRO'] + de_train['DE_NUCLEAR'] + de_train['DE_WINDPOW']  + de_train['DE_SOLAR'] + de_train['DE_LIGNITE']+de_train['DE_RESIDUAL_LOAD']\n",
    "de_train['OLD_ENERGY'] = de_train['DE_GAS'] + de_train['DE_COAL']\n",
    "de_train['WEATHER'] = de_train['DE_RAIN'] + de_train['DE_WIND']+ de_train['DE_TEMP']"
   ]
  },
  {
   "cell_type": "code",
   "execution_count": 5,
   "metadata": {},
   "outputs": [
    {
     "data": {
      "text/html": [
       "<div>\n",
       "<style scoped>\n",
       "    .dataframe tbody tr th:only-of-type {\n",
       "        vertical-align: middle;\n",
       "    }\n",
       "\n",
       "    .dataframe tbody tr th {\n",
       "        vertical-align: top;\n",
       "    }\n",
       "\n",
       "    .dataframe thead th {\n",
       "        text-align: right;\n",
       "    }\n",
       "</style>\n",
       "<table border=\"1\" class=\"dataframe\">\n",
       "  <thead>\n",
       "    <tr style=\"text-align: right;\">\n",
       "      <th></th>\n",
       "      <th>ID</th>\n",
       "      <th>DAY_ID</th>\n",
       "      <th>DE_CONSUMPTION</th>\n",
       "      <th>DE_FR_EXCHANGE</th>\n",
       "      <th>DE_NET_EXPORT</th>\n",
       "      <th>DE_NET_IMPORT</th>\n",
       "      <th>DE_GAS</th>\n",
       "      <th>DE_COAL</th>\n",
       "      <th>DE_HYDRO</th>\n",
       "      <th>DE_NUCLEAR</th>\n",
       "      <th>...</th>\n",
       "      <th>DE_RAIN</th>\n",
       "      <th>DE_WIND</th>\n",
       "      <th>DE_TEMP</th>\n",
       "      <th>GAS_RET</th>\n",
       "      <th>COAL_RET</th>\n",
       "      <th>CARBON_RET</th>\n",
       "      <th>TARGET</th>\n",
       "      <th>NEW_ENERGY</th>\n",
       "      <th>OLD_ENERGY</th>\n",
       "      <th>WEATHER</th>\n",
       "    </tr>\n",
       "  </thead>\n",
       "  <tbody>\n",
       "    <tr>\n",
       "      <th>count</th>\n",
       "      <td>643.000000</td>\n",
       "      <td>643.000000</td>\n",
       "      <td>643.000000</td>\n",
       "      <td>643.000000</td>\n",
       "      <td>643.000000</td>\n",
       "      <td>643.000000</td>\n",
       "      <td>643.000000</td>\n",
       "      <td>643.000000</td>\n",
       "      <td>643.000000</td>\n",
       "      <td>643.000000</td>\n",
       "      <td>...</td>\n",
       "      <td>643.000000</td>\n",
       "      <td>643.000000</td>\n",
       "      <td>643.000000</td>\n",
       "      <td>643.000000</td>\n",
       "      <td>643.000000</td>\n",
       "      <td>643.000000</td>\n",
       "      <td>643.000000</td>\n",
       "      <td>643.000000</td>\n",
       "      <td>643.000000</td>\n",
       "      <td>643.000000</td>\n",
       "    </tr>\n",
       "    <tr>\n",
       "      <th>mean</th>\n",
       "      <td>464.360809</td>\n",
       "      <td>584.539658</td>\n",
       "      <td>0.379809</td>\n",
       "      <td>-0.172616</td>\n",
       "      <td>-0.327798</td>\n",
       "      <td>0.327798</td>\n",
       "      <td>0.814385</td>\n",
       "      <td>-0.255720</td>\n",
       "      <td>0.606018</td>\n",
       "      <td>-0.601507</td>\n",
       "      <td>...</td>\n",
       "      <td>-0.041049</td>\n",
       "      <td>0.220598</td>\n",
       "      <td>0.015006</td>\n",
       "      <td>0.082186</td>\n",
       "      <td>0.051654</td>\n",
       "      <td>0.088062</td>\n",
       "      <td>0.148044</td>\n",
       "      <td>0.023752</td>\n",
       "      <td>0.558664</td>\n",
       "      <td>0.194555</td>\n",
       "    </tr>\n",
       "    <tr>\n",
       "      <th>std</th>\n",
       "      <td>269.765446</td>\n",
       "      <td>341.038614</td>\n",
       "      <td>0.682092</td>\n",
       "      <td>0.988550</td>\n",
       "      <td>0.930585</td>\n",
       "      <td>0.930585</td>\n",
       "      <td>0.848854</td>\n",
       "      <td>0.773450</td>\n",
       "      <td>1.083933</td>\n",
       "      <td>0.882778</td>\n",
       "      <td>...</td>\n",
       "      <td>0.987306</td>\n",
       "      <td>1.064980</td>\n",
       "      <td>0.923397</td>\n",
       "      <td>1.105919</td>\n",
       "      <td>1.022188</td>\n",
       "      <td>1.102142</td>\n",
       "      <td>1.047022</td>\n",
       "      <td>1.639067</td>\n",
       "      <td>1.362079</td>\n",
       "      <td>1.882633</td>\n",
       "    </tr>\n",
       "    <tr>\n",
       "      <th>min</th>\n",
       "      <td>0.000000</td>\n",
       "      <td>2.000000</td>\n",
       "      <td>-2.265563</td>\n",
       "      <td>-2.856874</td>\n",
       "      <td>-2.464849</td>\n",
       "      <td>-2.279619</td>\n",
       "      <td>-1.004008</td>\n",
       "      <td>-1.491593</td>\n",
       "      <td>-1.373985</td>\n",
       "      <td>-2.689387</td>\n",
       "      <td>...</td>\n",
       "      <td>-2.128531</td>\n",
       "      <td>-1.880419</td>\n",
       "      <td>-4.549638</td>\n",
       "      <td>-5.349463</td>\n",
       "      <td>-5.392852</td>\n",
       "      <td>-4.281790</td>\n",
       "      <td>-3.075929</td>\n",
       "      <td>-5.153221</td>\n",
       "      <td>-2.278029</td>\n",
       "      <td>-6.698497</td>\n",
       "    </tr>\n",
       "    <tr>\n",
       "      <th>25%</th>\n",
       "      <td>234.000000</td>\n",
       "      <td>289.500000</td>\n",
       "      <td>-0.069473</td>\n",
       "      <td>-0.979886</td>\n",
       "      <td>-1.026464</td>\n",
       "      <td>-0.365121</td>\n",
       "      <td>0.166714</td>\n",
       "      <td>-0.907156</td>\n",
       "      <td>-0.227007</td>\n",
       "      <td>-1.339070</td>\n",
       "      <td>...</td>\n",
       "      <td>-0.643150</td>\n",
       "      <td>-0.584245</td>\n",
       "      <td>-0.584184</td>\n",
       "      <td>-0.604950</td>\n",
       "      <td>-0.455707</td>\n",
       "      <td>-0.506085</td>\n",
       "      <td>-0.324693</td>\n",
       "      <td>-1.031835</td>\n",
       "      <td>-0.425179</td>\n",
       "      <td>-1.091685</td>\n",
       "    </tr>\n",
       "    <tr>\n",
       "      <th>50%</th>\n",
       "      <td>468.000000</td>\n",
       "      <td>582.000000</td>\n",
       "      <td>0.288112</td>\n",
       "      <td>-0.172069</td>\n",
       "      <td>-0.404441</td>\n",
       "      <td>0.404441</td>\n",
       "      <td>0.809862</td>\n",
       "      <td>-0.325659</td>\n",
       "      <td>0.402352</td>\n",
       "      <td>-0.343602</td>\n",
       "      <td>...</td>\n",
       "      <td>-0.288582</td>\n",
       "      <td>-0.099665</td>\n",
       "      <td>-0.019087</td>\n",
       "      <td>0.034673</td>\n",
       "      <td>0.047114</td>\n",
       "      <td>0.054056</td>\n",
       "      <td>0.005057</td>\n",
       "      <td>0.100028</td>\n",
       "      <td>0.352869</td>\n",
       "      <td>-0.079228</td>\n",
       "    </tr>\n",
       "    <tr>\n",
       "      <th>75%</th>\n",
       "      <td>690.500000</td>\n",
       "      <td>868.000000</td>\n",
       "      <td>0.895751</td>\n",
       "      <td>0.640639</td>\n",
       "      <td>0.365121</td>\n",
       "      <td>1.026464</td>\n",
       "      <td>1.445299</td>\n",
       "      <td>0.283322</td>\n",
       "      <td>1.342489</td>\n",
       "      <td>0.070503</td>\n",
       "      <td>...</td>\n",
       "      <td>0.335602</td>\n",
       "      <td>0.795558</td>\n",
       "      <td>0.565633</td>\n",
       "      <td>0.691052</td>\n",
       "      <td>0.634172</td>\n",
       "      <td>0.580153</td>\n",
       "      <td>0.386596</td>\n",
       "      <td>1.139056</td>\n",
       "      <td>1.430185</td>\n",
       "      <td>1.019518</td>\n",
       "    </tr>\n",
       "    <tr>\n",
       "      <th>max</th>\n",
       "      <td>930.000000</td>\n",
       "      <td>1213.000000</td>\n",
       "      <td>2.033851</td>\n",
       "      <td>2.634831</td>\n",
       "      <td>2.279619</td>\n",
       "      <td>2.464849</td>\n",
       "      <td>3.118082</td>\n",
       "      <td>1.902490</td>\n",
       "      <td>4.181936</td>\n",
       "      <td>0.842046</td>\n",
       "      <td>...</td>\n",
       "      <td>7.756118</td>\n",
       "      <td>5.085624</td>\n",
       "      <td>2.858758</td>\n",
       "      <td>5.674778</td>\n",
       "      <td>3.607281</td>\n",
       "      <td>5.471818</td>\n",
       "      <td>7.138604</td>\n",
       "      <td>4.258900</td>\n",
       "      <td>5.020572</td>\n",
       "      <td>10.349143</td>\n",
       "    </tr>\n",
       "  </tbody>\n",
       "</table>\n",
       "<p>8 rows × 24 columns</p>\n",
       "</div>"
      ],
      "text/plain": [
       "               ID       DAY_ID  DE_CONSUMPTION  DE_FR_EXCHANGE  DE_NET_EXPORT  \\\n",
       "count  643.000000   643.000000      643.000000      643.000000     643.000000   \n",
       "mean   464.360809   584.539658        0.379809       -0.172616      -0.327798   \n",
       "std    269.765446   341.038614        0.682092        0.988550       0.930585   \n",
       "min      0.000000     2.000000       -2.265563       -2.856874      -2.464849   \n",
       "25%    234.000000   289.500000       -0.069473       -0.979886      -1.026464   \n",
       "50%    468.000000   582.000000        0.288112       -0.172069      -0.404441   \n",
       "75%    690.500000   868.000000        0.895751        0.640639       0.365121   \n",
       "max    930.000000  1213.000000        2.033851        2.634831       2.279619   \n",
       "\n",
       "       DE_NET_IMPORT      DE_GAS     DE_COAL    DE_HYDRO  DE_NUCLEAR  ...  \\\n",
       "count     643.000000  643.000000  643.000000  643.000000  643.000000  ...   \n",
       "mean        0.327798    0.814385   -0.255720    0.606018   -0.601507  ...   \n",
       "std         0.930585    0.848854    0.773450    1.083933    0.882778  ...   \n",
       "min        -2.279619   -1.004008   -1.491593   -1.373985   -2.689387  ...   \n",
       "25%        -0.365121    0.166714   -0.907156   -0.227007   -1.339070  ...   \n",
       "50%         0.404441    0.809862   -0.325659    0.402352   -0.343602  ...   \n",
       "75%         1.026464    1.445299    0.283322    1.342489    0.070503  ...   \n",
       "max         2.464849    3.118082    1.902490    4.181936    0.842046  ...   \n",
       "\n",
       "          DE_RAIN     DE_WIND     DE_TEMP     GAS_RET    COAL_RET  CARBON_RET  \\\n",
       "count  643.000000  643.000000  643.000000  643.000000  643.000000  643.000000   \n",
       "mean    -0.041049    0.220598    0.015006    0.082186    0.051654    0.088062   \n",
       "std      0.987306    1.064980    0.923397    1.105919    1.022188    1.102142   \n",
       "min     -2.128531   -1.880419   -4.549638   -5.349463   -5.392852   -4.281790   \n",
       "25%     -0.643150   -0.584245   -0.584184   -0.604950   -0.455707   -0.506085   \n",
       "50%     -0.288582   -0.099665   -0.019087    0.034673    0.047114    0.054056   \n",
       "75%      0.335602    0.795558    0.565633    0.691052    0.634172    0.580153   \n",
       "max      7.756118    5.085624    2.858758    5.674778    3.607281    5.471818   \n",
       "\n",
       "           TARGET  NEW_ENERGY  OLD_ENERGY     WEATHER  \n",
       "count  643.000000  643.000000  643.000000  643.000000  \n",
       "mean     0.148044    0.023752    0.558664    0.194555  \n",
       "std      1.047022    1.639067    1.362079    1.882633  \n",
       "min     -3.075929   -5.153221   -2.278029   -6.698497  \n",
       "25%     -0.324693   -1.031835   -0.425179   -1.091685  \n",
       "50%      0.005057    0.100028    0.352869   -0.079228  \n",
       "75%      0.386596    1.139056    1.430185    1.019518  \n",
       "max      7.138604    4.258900    5.020572   10.349143  \n",
       "\n",
       "[8 rows x 24 columns]"
      ]
     },
     "execution_count": 5,
     "metadata": {},
     "output_type": "execute_result"
    }
   ],
   "source": [
    "de_train.describe()"
   ]
  },
  {
   "cell_type": "code",
   "execution_count": 6,
   "metadata": {},
   "outputs": [],
   "source": [
    "de_train['WEEKDAY'] = de_train['DAY_ID'] % 7 + 1 "
   ]
  },
  {
   "cell_type": "code",
   "execution_count": 7,
   "metadata": {},
   "outputs": [
    {
     "data": {
      "text/plain": [
       "Index(['ID', 'DAY_ID', 'DE_CONSUMPTION', 'DE_FR_EXCHANGE', 'DE_NET_EXPORT',\n",
       "       'DE_NET_IMPORT', 'DE_GAS', 'DE_COAL', 'DE_HYDRO', 'DE_NUCLEAR',\n",
       "       'DE_SOLAR', 'DE_WINDPOW', 'DE_LIGNITE', 'DE_RESIDUAL_LOAD', 'DE_RAIN',\n",
       "       'DE_WIND', 'DE_TEMP', 'GAS_RET', 'COAL_RET', 'CARBON_RET', 'TARGET',\n",
       "       'NEW_ENERGY', 'OLD_ENERGY', 'WEATHER', 'WEEKDAY'],\n",
       "      dtype='object')"
      ]
     },
     "execution_count": 7,
     "metadata": {},
     "output_type": "execute_result"
    }
   ],
   "source": [
    "de_train.columns\n"
   ]
  },
  {
   "cell_type": "code",
   "execution_count": 8,
   "metadata": {},
   "outputs": [],
   "source": [
    "col_2_change = ['DE_CONSUMPTION', 'DE_FR_EXCHANGE', 'DE_NET_EXPORT',\n",
    "       'DE_NET_IMPORT', 'DE_GAS', 'DE_COAL', 'DE_HYDRO', 'DE_NUCLEAR',\n",
    "       'DE_SOLAR', 'DE_WINDPOW', 'DE_LIGNITE', 'DE_RESIDUAL_LOAD', 'DE_RAIN',\n",
    "       'DE_WIND', 'DE_TEMP', 'GAS_RET', 'COAL_RET', 'CARBON_RET', 'TARGET',\n",
    "       'NEW_ENERGY', 'OLD_ENERGY', 'WEATHER']\n",
    "from sklearn.metrics import make_scorer\n",
    "from scipy.stats import spearmanr\n",
    "\n",
    "def spearman_scoring(y_true, y_pred):\n",
    "    corr, _ = spearmanr(y_true, y_pred)\n",
    "    return corr\n",
    "\n",
    "spearman_scorer = make_scorer(spearman_scoring, greater_is_better=True)"
   ]
  },
  {
   "cell_type": "code",
   "execution_count": 9,
   "metadata": {},
   "outputs": [],
   "source": [
    "#de_X = de_train.drop(['TARGET', 'ID', 'DAY_ID','DE_NET_EXPORT'], axis=1)\n",
    "de_y = de_train['TARGET']\n",
    "#de_X.columns"
   ]
  },
  {
   "cell_type": "markdown",
   "metadata": {},
   "source": [
    "# Selecting features for transformation using Random Forest Regressor"
   ]
  },
  {
   "cell_type": "code",
   "execution_count": 10,
   "metadata": {},
   "outputs": [
    {
     "name": "stdout",
     "output_type": "stream",
     "text": [
      "Selected DE_NET_EXPORT for FFT transformation, Spearman correlation: 0.3738763416815743\n"
     ]
    }
   ],
   "source": [
    "# Re-import necessary libraries\n",
    "from sklearn.ensemble import RandomForestRegressor\n",
    "from sklearn.model_selection import train_test_split\n",
    "from scipy.stats import spearmanr\n",
    "from scipy.fft import fft\n",
    "import numpy as np\n",
    "\n",
    "def train_and_evaluate(df, col_2_change, target_col):\n",
    "    best_score = -1\n",
    "    best_feature = None\n",
    "    improvement = True\n",
    "    df_copy = df.copy()  # Create a copy of the data to avoid changing the original dataframe\n",
    "\n",
    "    while improvement:\n",
    "        improvement = False\n",
    "        current_best_score = best_score\n",
    "        for col in col_2_change:\n",
    "            fft_values = fft(df_copy[col].fillna(0).to_numpy())\n",
    "            df_copy[col + '_FFT_MAG'] = np.abs(fft_values)\n",
    "            \n",
    "            df_X = df_copy.drop([target_col, col], axis=1)  \n",
    "            df_y = df_copy[target_col]\n",
    "            df_X_train, df_X_valid, df_y_train, df_y_valid = train_test_split(df_X, df_y, test_size=0.2, random_state=42)\n",
    "            \n",
    "            rf = RandomForestRegressor(random_state=42)\n",
    "            rf.fit(df_X_train, df_y_train)\n",
    "            df_y_pred_rf = rf.predict(df_X_valid)\n",
    "            spearman_corr_rf, _ = spearmanr(df_y_valid, df_y_pred_rf)\n",
    "            \n",
    "            if spearman_corr_rf > current_best_score:\n",
    "                current_best_score = spearman_corr_rf\n",
    "                best_feature = col\n",
    "                improvement = True\n",
    "            df_copy.drop(columns=[col + '_FFT_MAG'], inplace=True)\n",
    "\n",
    "        if best_feature:\n",
    "            fft_values = fft(df_copy[best_feature].fillna(0).to_numpy())\n",
    "            df_copy[best_feature + '_FFT_MAG'] = np.abs(fft_values)\n",
    "            df_copy.drop(columns=[best_feature], inplace=True)\n",
    "            col_2_change.remove(best_feature)\n",
    "            print(f\"Selected {best_feature} for FFT transformation, Spearman correlation: {current_best_score}\")\n",
    "            best_score = current_best_score  \n",
    "            best_feature = None  \n",
    "\n",
    "    return df_copy\n",
    "\n",
    "\n",
    "df_transformed = train_and_evaluate(de_train, col_2_change, 'TARGET')"
   ]
  },
  {
   "cell_type": "markdown",
   "metadata": {},
   "source": [
    "# Selecting features for transformation using Linear Regressor"
   ]
  },
  {
   "cell_type": "code",
   "execution_count": 11,
   "metadata": {},
   "outputs": [
    {
     "name": "stdout",
     "output_type": "stream",
     "text": [
      "Selected DE_CONSUMPTION for FFT transformation, Spearman correlation: 0.48417374776386407\n",
      "Selected DE_GAS for FFT transformation, Spearman correlation: 0.4947842128801432\n",
      "Selected DE_COAL for FFT transformation, Spearman correlation: 0.5138528622540252\n",
      "Selected DE_RESIDUAL_LOAD for FFT transformation, Spearman correlation: 0.5192978533094813\n"
     ]
    }
   ],
   "source": [
    "# Re-import necessary libraries\n",
    "from sklearn.linear_model import LinearRegression\n",
    "from sklearn.model_selection import train_test_split\n",
    "from scipy.stats import spearmanr\n",
    "from scipy.fft import fft\n",
    "import numpy as np\n",
    "\n",
    "col_2_change = ['DE_CONSUMPTION', 'DE_FR_EXCHANGE', 'DE_NET_EXPORT',\n",
    "       'DE_NET_IMPORT', 'DE_GAS', 'DE_COAL', 'DE_HYDRO', 'DE_NUCLEAR',\n",
    "       'DE_SOLAR', 'DE_WINDPOW', 'DE_LIGNITE', 'DE_RESIDUAL_LOAD', 'DE_RAIN',\n",
    "       'DE_WIND', 'DE_TEMP', 'GAS_RET', 'COAL_RET', 'CARBON_RET', 'TARGET',\n",
    "       'NEW_ENERGY', 'OLD_ENERGY', 'WEATHER']\n",
    "\n",
    "def train_and_evaluate(df, col_2_change, target_col):\n",
    "    best_score = -1\n",
    "    best_feature = None\n",
    "    improvement = True\n",
    "    df_copy2 = df.copy()  # Create a copy of the data to avoid changing the original dataframe\n",
    "\n",
    "    while improvement:\n",
    "        improvement = False\n",
    "        current_best_score = best_score\n",
    "        for col in col_2_change:\n",
    "            fft_values = fft(df_copy2[col].fillna(0).to_numpy())\n",
    "            df_copy2[col + '_FFT_MAG'] = np.abs(fft_values)\n",
    "            \n",
    "            df_X = df_copy2.drop([target_col, col], axis=1)  \n",
    "            df_y = df_copy2[target_col]\n",
    "            df_X_train, df_X_valid, df_y_train, df_y_valid = train_test_split(df_X, df_y, test_size=0.2, random_state=42)\n",
    "            \n",
    "            lr = LinearRegression()\n",
    "            lr.fit(df_X_train, df_y_train)\n",
    "            df_y_pred_lr = lr.predict(df_X_valid)\n",
    "            spearman_corr_lr, _ = spearmanr(df_y_valid, df_y_pred_lr)\n",
    "            \n",
    "            if spearman_corr_lr > current_best_score:\n",
    "                current_best_score = spearman_corr_lr\n",
    "                best_feature = col\n",
    "                improvement = True\n",
    "            df_copy2.drop(columns=[col + '_FFT_MAG'], inplace=True)\n",
    "\n",
    "        if best_feature:\n",
    "            fft_values = fft(df_copy2[best_feature].fillna(0).to_numpy())\n",
    "            df_copy2[best_feature + '_FFT_MAG'] = np.abs(fft_values)\n",
    "            df_copy2.drop(columns=[best_feature], inplace=True)\n",
    "            col_2_change.remove(best_feature)\n",
    "            print(f\"Selected {best_feature} for FFT transformation, Spearman correlation: {current_best_score}\")\n",
    "            best_score = current_best_score  \n",
    "            best_feature = None  \n",
    "\n",
    "    return df_copy2\n",
    "\n",
    "\n",
    "df_transformed_lr = train_and_evaluate(de_train, col_2_change, 'TARGET')"
   ]
  },
  {
   "cell_type": "code",
   "execution_count": 12,
   "metadata": {},
   "outputs": [],
   "source": [
    "de_X = df_transformed.copy().drop(['ID','DAY_ID', 'TARGET','WEEKDAY'],axis = 1)"
   ]
  },
  {
   "cell_type": "code",
   "execution_count": 13,
   "metadata": {},
   "outputs": [
    {
     "name": "stdout",
     "output_type": "stream",
     "text": [
      "train dataset: (514, 21) (514,)\n",
      "validation dataset: (129, 21) (129,)\n"
     ]
    }
   ],
   "source": [
    "from sklearn.model_selection import train_test_split\n",
    "\n",
    "de_X_train, de_X_valid, de_y_train, de_y_valid = train_test_split(de_X, de_y, test_size=0.2, random_state=42)\n",
    "\n",
    "print(\"train dataset:\", de_X_train.shape, de_y_train.shape)\n",
    "print(\"validation dataset:\", de_X_valid.shape, de_y_valid.shape)"
   ]
  },
  {
   "cell_type": "code",
   "execution_count": 14,
   "metadata": {},
   "outputs": [
    {
     "name": "stdout",
     "output_type": "stream",
     "text": [
      "train dataset: (514, 21) (514,)\n",
      "validation dataset: (129, 21) (129,)\n"
     ]
    }
   ],
   "source": [
    "from sklearn.model_selection import train_test_split\n",
    "de_X2 = df_transformed_lr.copy().drop(['ID','DAY_ID', 'TARGET','WEEKDAY'],axis = 1)\n",
    "de_X_train2, de_X_valid2, de_y_train, de_y_valid = train_test_split(de_X2, de_y, test_size=0.2, random_state=42)\n",
    "\n",
    "print(\"train dataset:\", de_X_train2.shape, de_y_train.shape)\n",
    "print(\"validation dataset:\", de_X_valid2.shape, de_y_valid.shape)"
   ]
  },
  {
   "cell_type": "markdown",
   "metadata": {},
   "source": [
    "# Linear Regression"
   ]
  },
  {
   "cell_type": "code",
   "execution_count": 15,
   "metadata": {},
   "outputs": [
    {
     "name": "stdout",
     "output_type": "stream",
     "text": [
      "LinearRegression()\n",
      "sc: 0.46133720930232563\n",
      "mse: 1.1002997852821574\n"
     ]
    }
   ],
   "source": [
    "from sklearn.linear_model import LinearRegression\n",
    "from sklearn.metrics import mean_squared_error\n",
    "from scipy.stats import spearmanr\n",
    "\n",
    "lr_model = LinearRegression()\n",
    "print(lr_model)\n",
    "\n",
    "lr_model.fit(de_X_train, de_y_train)\n",
    "\n",
    "de_y_pred_lr = lr_model.predict(de_X_valid)\n",
    "\n",
    "spearman_corr, _ = spearmanr(de_y_valid, de_y_pred_lr)\n",
    "\n",
    "print(\"sc:\", spearman_corr)\n",
    "\n",
    "print\n",
    "mse = mean_squared_error(de_y_valid, de_y_pred_lr)\n",
    "print(\"mse:\", mse)"
   ]
  },
  {
   "cell_type": "code",
   "execution_count": 16,
   "metadata": {},
   "outputs": [
    {
     "name": "stdout",
     "output_type": "stream",
     "text": [
      "features selected by lr model\n",
      "LinearRegression()\n",
      "sc: 0.5113707513416816\n",
      "mse: 1.0779263048750019\n"
     ]
    }
   ],
   "source": [
    "from sklearn.linear_model import LinearRegression\n",
    "from sklearn.metrics import mean_squared_error\n",
    "from scipy.stats import spearmanr\n",
    "print(\"features selected by lr model\")\n",
    "lr_model2 = LinearRegression()\n",
    "print(lr_model2)\n",
    "\n",
    "lr_model2.fit(de_X_train2, de_y_train)\n",
    "\n",
    "de_y_pred_lr2 = lr_model2.predict(de_X_valid2)\n",
    "\n",
    "spearman_corr, _ = spearmanr(de_y_valid, de_y_pred_lr2)\n",
    "\n",
    "print(\"sc:\", spearman_corr)\n",
    "\n",
    "mse = mean_squared_error(de_y_valid, de_y_pred_lr2)\n",
    "print(\"mse:\", mse)"
   ]
  },
  {
   "cell_type": "markdown",
   "metadata": {},
   "source": [
    "# Linear Regression + PCA"
   ]
  },
  {
   "cell_type": "code",
   "execution_count": 17,
   "metadata": {},
   "outputs": [
    {
     "name": "stdout",
     "output_type": "stream",
     "text": [
      "After PCA - Train dataset: (514, 16)\n",
      "After PCA - Validation dataset: (129, 16)\n"
     ]
    }
   ],
   "source": [
    "from sklearn.decomposition import PCA\n",
    "\n",
    "pca = PCA(n_components=16)\n",
    "pca.fit(de_X_train)\n",
    "\n",
    "de_X_train_pca = pca.transform(de_X_train)\n",
    "\n",
    "de_X_valid_pca = pca.transform(de_X_valid)\n",
    "\n",
    "print(\"After PCA - Train dataset:\", de_X_train_pca.shape)\n",
    "print(\"After PCA - Validation dataset:\", de_X_valid_pca.shape)"
   ]
  },
  {
   "cell_type": "code",
   "execution_count": 18,
   "metadata": {},
   "outputs": [
    {
     "name": "stdout",
     "output_type": "stream",
     "text": [
      "LinearRegression()\n",
      "sc: 0.46451252236135965\n",
      "mse: 1.1083167777417184\n"
     ]
    }
   ],
   "source": [
    "from sklearn.linear_model import LinearRegression\n",
    "from sklearn.metrics import mean_squared_error\n",
    "from scipy.stats import spearmanr\n",
    "\n",
    "lr_model = LinearRegression()\n",
    "print(lr_model)\n",
    "\n",
    "lr_model.fit(de_X_train_pca, de_y_train)\n",
    "\n",
    "de_y_pred_lr = lr_model.predict(de_X_valid_pca)\n",
    "\n",
    "spearman_corr, _ = spearmanr(de_y_valid, de_y_pred_lr)\n",
    "\n",
    "print(\"sc:\", spearman_corr)\n",
    "\n",
    "print\n",
    "mse = mean_squared_error(de_y_valid, de_y_pred_lr)\n",
    "print(\"mse:\", mse)"
   ]
  },
  {
   "cell_type": "code",
   "execution_count": 19,
   "metadata": {},
   "outputs": [
    {
     "name": "stdout",
     "output_type": "stream",
     "text": [
      "After PCA - Train dataset: (514, 16)\n",
      "After PCA - Validation dataset: (129, 16)\n"
     ]
    }
   ],
   "source": [
    "from sklearn.decomposition import PCA\n",
    "\n",
    "pca2 = PCA(n_components=16)\n",
    "pca2.fit(de_X_train2)\n",
    "\n",
    "de_X_train_pca2 = pca2.transform(de_X_train2)\n",
    "\n",
    "de_X_valid_pca2 = pca2.transform(de_X_valid2)\n",
    "\n",
    "print(\"After PCA - Train dataset:\", de_X_train_pca2.shape)\n",
    "print(\"After PCA - Validation dataset:\", de_X_valid_pca2.shape)"
   ]
  },
  {
   "cell_type": "code",
   "execution_count": 20,
   "metadata": {},
   "outputs": [
    {
     "name": "stdout",
     "output_type": "stream",
     "text": [
      "LinearRegression()\n",
      "sc: 0.25479092128801434\n",
      "mse: 1.749095530388892\n"
     ]
    }
   ],
   "source": [
    "from sklearn.linear_model import LinearRegression\n",
    "from sklearn.metrics import mean_squared_error\n",
    "from scipy.stats import spearmanr\n",
    "\n",
    "lr_model2 = LinearRegression()\n",
    "print(lr_model2)\n",
    "\n",
    "lr_model2.fit(de_X_train_pca2, de_y_train)\n",
    "\n",
    "de_y_pred_lr2 = lr_model.predict(de_X_valid_pca2)\n",
    "\n",
    "spearman_corr, _ = spearmanr(de_y_valid, de_y_pred_lr2)\n",
    "\n",
    "print(\"sc:\", spearman_corr)\n",
    "\n",
    "print\n",
    "mse = mean_squared_error(de_y_valid, de_y_pred_lr2)\n",
    "print(\"mse:\", mse)"
   ]
  },
  {
   "cell_type": "markdown",
   "metadata": {},
   "source": [
    "# SVR"
   ]
  },
  {
   "cell_type": "code",
   "execution_count": 21,
   "metadata": {},
   "outputs": [
    {
     "name": "stdout",
     "output_type": "stream",
     "text": [
      "SVR(C=100.0, epsilon=0.499, kernel='linear')\n",
      "sc: 0.4809369409660108\n",
      "mse: 1.0723698482723238\n"
     ]
    }
   ],
   "source": [
    "from sklearn.svm import SVR\n",
    "from scipy.stats import spearmanr\n",
    "\n",
    "svr_model = SVR(kernel='linear', C=100.0, epsilon=0.499)  \n",
    "print(svr_model)\n",
    "\n",
    "svr_model.fit(de_X_train, de_y_train)\n",
    "\n",
    "de_y_pred_svr = svr_model.predict(de_X_valid)\n",
    "\n",
    "spearman_corr_svr, _ = spearmanr(de_y_valid, de_y_pred_svr)\n",
    "print(\"sc:\", spearman_corr_svr)\n",
    "\n",
    "mse_svr = mean_squared_error(de_y_valid, de_y_pred_svr)\n",
    "print(\"mse:\", mse_svr)"
   ]
  },
  {
   "cell_type": "code",
   "execution_count": 22,
   "metadata": {},
   "outputs": [
    {
     "name": "stdout",
     "output_type": "stream",
     "text": [
      "SVR(C=100.0, epsilon=0.499, kernel='linear')\n",
      "sc: 0.4792207066189625\n",
      "mse: 1.0619483957084999\n"
     ]
    }
   ],
   "source": [
    "from sklearn.svm import SVR\n",
    "from scipy.stats import spearmanr\n",
    "\n",
    "svr_model2 = SVR(kernel='linear', C=100.0, epsilon=0.499)  \n",
    "print(svr_model2)\n",
    "\n",
    "svr_model2.fit(de_X_train2, de_y_train)\n",
    "\n",
    "de_y_pred_svr2 = svr_model2.predict(de_X_valid2)\n",
    "\n",
    "spearman_corr_svr, _ = spearmanr(de_y_valid, de_y_pred_svr2)\n",
    "print(\"sc:\", spearman_corr_svr)\n",
    "\n",
    "mse_svr = mean_squared_error(de_y_valid, de_y_pred_svr2)\n",
    "print(\"mse:\", mse_svr)"
   ]
  },
  {
   "cell_type": "code",
   "execution_count": 23,
   "metadata": {},
   "outputs": [
    {
     "data": {
      "text/plain": [
       "Index(['DE_FR_EXCHANGE', 'DE_NET_EXPORT', 'DE_NET_IMPORT', 'DE_HYDRO',\n",
       "       'DE_NUCLEAR', 'DE_SOLAR', 'DE_WINDPOW', 'DE_LIGNITE', 'DE_RAIN',\n",
       "       'DE_WIND', 'DE_TEMP', 'GAS_RET', 'COAL_RET', 'CARBON_RET', 'NEW_ENERGY',\n",
       "       'OLD_ENERGY', 'WEATHER', 'DE_CONSUMPTION_FFT_MAG', 'DE_GAS_FFT_MAG',\n",
       "       'DE_COAL_FFT_MAG', 'DE_RESIDUAL_LOAD_FFT_MAG'],\n",
       "      dtype='object')"
      ]
     },
     "execution_count": 23,
     "metadata": {},
     "output_type": "execute_result"
    }
   ],
   "source": [
    "de_X_train2.columns"
   ]
  },
  {
   "cell_type": "markdown",
   "metadata": {},
   "source": [
    "# SVR+PCA"
   ]
  },
  {
   "cell_type": "code",
   "execution_count": 24,
   "metadata": {},
   "outputs": [
    {
     "name": "stdout",
     "output_type": "stream",
     "text": [
      "SVR(C=100.0, epsilon=0.499, kernel='linear')\n",
      "sc: 0.4405523255813954\n",
      "mse: 1.0880800102094066\n"
     ]
    }
   ],
   "source": [
    "\n",
    "from sklearn.svm import SVR\n",
    "from scipy.stats import spearmanr\n",
    "\n",
    "svr_model = SVR(kernel='linear', C=100.0, epsilon=0.499)  \n",
    "print(svr_model)\n",
    "\n",
    "svr_model.fit(de_X_train_pca, de_y_train)\n",
    "\n",
    "de_y_pred_svr = svr_model.predict(de_X_valid_pca)\n",
    "\n",
    "spearman_corr_svr, _ = spearmanr(de_y_valid, de_y_pred_svr)\n",
    "print(\"sc:\", spearman_corr_svr)\n",
    "\n",
    "mse_svr = mean_squared_error(de_y_valid, de_y_pred_svr)\n",
    "print(\"mse:\", mse_svr)"
   ]
  },
  {
   "cell_type": "code",
   "execution_count": 25,
   "metadata": {},
   "outputs": [
    {
     "name": "stdout",
     "output_type": "stream",
     "text": [
      "SVR(C=100.0, epsilon=0.499, kernel='linear')\n",
      "sc: 0.40495304114490166\n",
      "mse: 1.102878443900009\n"
     ]
    }
   ],
   "source": [
    "from sklearn.svm import SVR\n",
    "from scipy.stats import spearmanr\n",
    "\n",
    "svr_model2 = SVR(kernel='linear', C=100.0, epsilon=0.499)  \n",
    "print(svr_model2)\n",
    "\n",
    "svr_model2.fit(de_X_train_pca2, de_y_train)\n",
    "\n",
    "de_y_pred_svr2 = svr_model2.predict(de_X_valid_pca2)\n",
    "\n",
    "spearman_corr_svr, _ = spearmanr(de_y_valid, de_y_pred_svr2)\n",
    "print(\"sc:\", spearman_corr_svr)\n",
    "\n",
    "mse_svr = mean_squared_error(de_y_valid, de_y_pred_svr2)\n",
    "print(\"mse:\", mse_svr)"
   ]
  },
  {
   "cell_type": "markdown",
   "metadata": {},
   "source": [
    "# Random Forest"
   ]
  },
  {
   "cell_type": "code",
   "execution_count": 26,
   "metadata": {},
   "outputs": [
    {
     "name": "stdout",
     "output_type": "stream",
     "text": [
      "RandomForestRegressor(random_state=42)\n",
      "sc: 0.33270907871198574\n",
      "mse: 1.159672291571417\n"
     ]
    }
   ],
   "source": [
    "from sklearn.ensemble import RandomForestRegressor\n",
    "from scipy.stats import spearmanr\n",
    "\n",
    "rf_model = RandomForestRegressor(random_state=42)\n",
    "print(rf_model)\n",
    "\n",
    "rf_model.fit(de_X_train, de_y_train)\n",
    "\n",
    "de_y_pred_rf = rf_model.predict(de_X_valid)\n",
    "\n",
    "spearman_corr_rf, _ = spearmanr(de_y_valid, de_y_pred_rf)\n",
    "print(\"sc:\", spearman_corr_rf)\n",
    "\n",
    "mse = mean_squared_error(de_y_valid, de_y_pred_rf)\n",
    "print(\"mse:\", mse)"
   ]
  },
  {
   "cell_type": "code",
   "execution_count": 27,
   "metadata": {},
   "outputs": [
    {
     "name": "stdout",
     "output_type": "stream",
     "text": [
      "RandomForestRegressor(random_state=42)\n",
      "sc: 0.2786057692307693\n",
      "mse: 1.2245608860682133\n"
     ]
    }
   ],
   "source": [
    "from sklearn.ensemble import RandomForestRegressor\n",
    "from scipy.stats import spearmanr\n",
    "\n",
    "rf_model2 = RandomForestRegressor(random_state=42)\n",
    "print(rf_model2)\n",
    "\n",
    "rf_model2.fit(de_X_train2, de_y_train)\n",
    "\n",
    "de_y_pred_rf2 = rf_model2.predict(de_X_valid2)\n",
    "\n",
    "spearman_corr_rf, _ = spearmanr(de_y_valid, de_y_pred_rf2)\n",
    "print(\"sc:\", spearman_corr_rf)\n",
    "\n",
    "mse = mean_squared_error(de_y_valid, de_y_pred_rf2)\n",
    "print(\"mse:\", mse)"
   ]
  },
  {
   "cell_type": "markdown",
   "metadata": {},
   "source": [
    "# Gradientboost"
   ]
  },
  {
   "cell_type": "code",
   "execution_count": 28,
   "metadata": {},
   "outputs": [
    {
     "name": "stdout",
     "output_type": "stream",
     "text": [
      "GradientBoostingRegressor(random_state=42)\n",
      "sc: 0.2975290697674419\n",
      "mse: 1.2038096960821605\n"
     ]
    }
   ],
   "source": [
    "from sklearn.ensemble import GradientBoostingRegressor\n",
    "from scipy.stats import spearmanr\n",
    "\n",
    "gb_model = GradientBoostingRegressor(random_state=42)  \n",
    "print(gb_model)\n",
    "\n",
    "gb_model.fit(de_X_train, de_y_train)\n",
    "\n",
    "de_y_pred_gb = gb_model.predict(de_X_valid)\n",
    "\n",
    "spearman_corr_gb, _ = spearmanr(de_y_valid, de_y_pred_gb)\n",
    "print(\"sc:\", spearman_corr_gb)\n",
    "\n",
    "mse_gb = mean_squared_error(de_y_valid, de_y_pred_gb)\n",
    "print(\"mse:\", mse_gb)"
   ]
  },
  {
   "cell_type": "code",
   "execution_count": 29,
   "metadata": {},
   "outputs": [
    {
     "name": "stdout",
     "output_type": "stream",
     "text": [
      "GradientBoostingRegressor(random_state=42)\n",
      "sc: 0.2747316636851521\n",
      "mse: 1.260337134089343\n"
     ]
    }
   ],
   "source": [
    "from sklearn.ensemble import GradientBoostingRegressor\n",
    "from scipy.stats import spearmanr\n",
    "\n",
    "gb_model2 = GradientBoostingRegressor(random_state=42)  \n",
    "print(gb_model2)\n",
    "\n",
    "gb_model2.fit(de_X_train2, de_y_train)\n",
    "\n",
    "de_y_pred_gb2 = gb_model2.predict(de_X_valid2)\n",
    "\n",
    "spearman_corr_gb, _ = spearmanr(de_y_valid, de_y_pred_gb2)\n",
    "print(\"sc:\", spearman_corr_gb)\n",
    "\n",
    "mse_gb = mean_squared_error(de_y_valid, de_y_pred_gb2)\n",
    "print(\"mse:\", mse_gb)"
   ]
  },
  {
   "cell_type": "markdown",
   "metadata": {},
   "source": [
    "# Adaboost"
   ]
  },
  {
   "cell_type": "code",
   "execution_count": 30,
   "metadata": {},
   "outputs": [
    {
     "name": "stdout",
     "output_type": "stream",
     "text": [
      "AdaBoostRegressor(random_state=42)\n",
      "sc: 0.2031974891663821\n",
      "mse: 1.345809494214668\n"
     ]
    }
   ],
   "source": [
    "from sklearn.ensemble import AdaBoostRegressor\n",
    "from scipy.stats import spearmanr\n",
    "\n",
    "adaboost_model = AdaBoostRegressor(random_state=42)\n",
    "print(adaboost_model)\n",
    "\n",
    "adaboost_model.fit(de_X_train, de_y_train)\n",
    "\n",
    "de_y_pred_adaboost = adaboost_model.predict(de_X_valid)\n",
    "\n",
    "spearman_corr_adaboost, _ = spearmanr(de_y_valid, de_y_pred_adaboost)\n",
    "print(\"sc:\", spearman_corr_adaboost)\n",
    "\n",
    "mse_adaboost = mean_squared_error(de_y_valid, de_y_pred_adaboost)\n",
    "print(\"mse:\", mse_adaboost)"
   ]
  },
  {
   "cell_type": "code",
   "execution_count": 31,
   "metadata": {},
   "outputs": [
    {
     "name": "stdout",
     "output_type": "stream",
     "text": [
      "AdaBoostRegressor(random_state=42)\n",
      "sc: 0.21884287228947852\n",
      "mse: 1.3574129995713977\n"
     ]
    }
   ],
   "source": [
    "from sklearn.ensemble import AdaBoostRegressor\n",
    "from scipy.stats import spearmanr\n",
    "\n",
    "adaboost_model2 = AdaBoostRegressor(random_state=42)\n",
    "print(adaboost_model2)\n",
    "\n",
    "adaboost_model2.fit(de_X_train2, de_y_train)\n",
    "\n",
    "de_y_pred_adaboost2 = adaboost_model2.predict(de_X_valid2)\n",
    "\n",
    "spearman_corr_adaboost, _ = spearmanr(de_y_valid, de_y_pred_adaboost2)\n",
    "print(\"sc:\", spearman_corr_adaboost)\n",
    "\n",
    "mse_adaboost = mean_squared_error(de_y_valid, de_y_pred_adaboost2)\n",
    "print(\"mse:\", mse_adaboost)"
   ]
  },
  {
   "cell_type": "markdown",
   "metadata": {},
   "source": [
    "# Xgboost"
   ]
  },
  {
   "cell_type": "code",
   "execution_count": 32,
   "metadata": {},
   "outputs": [
    {
     "name": "stdout",
     "output_type": "stream",
     "text": [
      "XGBRegressor(base_score=None, booster=None, callbacks=None,\n",
      "             colsample_bylevel=None, colsample_bynode=None,\n",
      "             colsample_bytree=None, device=None, early_stopping_rounds=None,\n",
      "             enable_categorical=False, eval_metric=None, feature_types=None,\n",
      "             gamma=None, grow_policy=None, importance_type=None,\n",
      "             interaction_constraints=None, learning_rate=None, max_bin=None,\n",
      "             max_cat_threshold=None, max_cat_to_onehot=None,\n",
      "             max_delta_step=None, max_depth=None, max_leaves=None,\n",
      "             min_child_weight=None, missing=nan, monotone_constraints=None,\n",
      "             multi_strategy=None, n_estimators=None, n_jobs=None,\n",
      "             num_parallel_tree=None, random_state=42, ...)\n",
      "sc: 0.28012634168157424\n",
      "mse: 1.2967161277301498\n"
     ]
    }
   ],
   "source": [
    "from xgboost import XGBRegressor\n",
    "from scipy.stats import spearmanr\n",
    "\n",
    "xgb_model = XGBRegressor(objective='reg:squarederror', random_state=42) \n",
    "print(xgb_model)\n",
    "\n",
    "xgb_model.fit(de_X_train, de_y_train)\n",
    "\n",
    "de_y_pred_xgb = xgb_model.predict(de_X_valid)\n",
    "\n",
    "spearman_corr_xgb, _ = spearmanr(de_y_valid, de_y_pred_xgb)\n",
    "print(\"sc:\", spearman_corr_xgb)\n",
    "\n",
    "mse_xgb = mean_squared_error(de_y_valid, de_y_pred_xgb)\n",
    "print(\"mse:\", mse_xgb)"
   ]
  },
  {
   "cell_type": "code",
   "execution_count": 33,
   "metadata": {},
   "outputs": [
    {
     "name": "stdout",
     "output_type": "stream",
     "text": [
      "XGBRegressor(base_score=None, booster=None, callbacks=None,\n",
      "             colsample_bylevel=None, colsample_bynode=None,\n",
      "             colsample_bytree=None, device=None, early_stopping_rounds=None,\n",
      "             enable_categorical=False, eval_metric=None, feature_types=None,\n",
      "             gamma=None, grow_policy=None, importance_type=None,\n",
      "             interaction_constraints=None, learning_rate=None, max_bin=None,\n",
      "             max_cat_threshold=None, max_cat_to_onehot=None,\n",
      "             max_delta_step=None, max_depth=None, max_leaves=None,\n",
      "             min_child_weight=None, missing=nan, monotone_constraints=None,\n",
      "             multi_strategy=None, n_estimators=None, n_jobs=None,\n",
      "             num_parallel_tree=None, random_state=42, ...)\n",
      "sc: 0.23617508944543833\n",
      "mse: 1.3539397436881755\n"
     ]
    }
   ],
   "source": [
    "from xgboost import XGBRegressor\n",
    "from scipy.stats import spearmanr\n",
    "\n",
    "xgb_model2 = XGBRegressor(objective='reg:squarederror', random_state=42) \n",
    "print(xgb_model2)\n",
    "\n",
    "xgb_model2.fit(de_X_train2, de_y_train)\n",
    "\n",
    "de_y_pred_xgb2 = xgb_model2.predict(de_X_valid2)\n",
    "\n",
    "spearman_corr_xgb, _ = spearmanr(de_y_valid, de_y_pred_xgb2)\n",
    "print(\"sc:\", spearman_corr_xgb)\n",
    "\n",
    "mse_xgb = mean_squared_error(de_y_valid, de_y_pred_xgb2)\n",
    "print(\"mse:\", mse_xgb)"
   ]
  },
  {
   "cell_type": "markdown",
   "metadata": {},
   "source": [
    "# KNN"
   ]
  },
  {
   "cell_type": "code",
   "execution_count": 34,
   "metadata": {},
   "outputs": [
    {
     "name": "stdout",
     "output_type": "stream",
     "text": [
      "KNeighborsRegressor()\n",
      "sc: 0.09202004701524939\n",
      "mse: 1.3275504028966172\n"
     ]
    }
   ],
   "source": [
    "from sklearn.neighbors import KNeighborsRegressor\n",
    "from scipy.stats import spearmanr\n",
    "\n",
    "knn_model = KNeighborsRegressor(n_neighbors=5)  \n",
    "print(knn_model)\n",
    "\n",
    "knn_model.fit(de_X_train, de_y_train)\n",
    "\n",
    "de_y_pred_knn = knn_model.predict(de_X_valid)\n",
    "\n",
    "spearman_corr_knn, _ = spearmanr(de_y_valid, de_y_pred_knn)\n",
    "print(\"sc:\", spearman_corr_knn)\n",
    "\n",
    "mse_knn = mean_squared_error(de_y_valid, de_y_pred_knn)\n",
    "print(\"mse:\", mse_knn)"
   ]
  },
  {
   "cell_type": "code",
   "execution_count": 35,
   "metadata": {},
   "outputs": [
    {
     "name": "stdout",
     "output_type": "stream",
     "text": [
      "KNeighborsRegressor()\n",
      "sc: 0.13556612132801543\n",
      "mse: 1.34404921001132\n"
     ]
    }
   ],
   "source": [
    "from sklearn.neighbors import KNeighborsRegressor\n",
    "from scipy.stats import spearmanr\n",
    "\n",
    "knn_model2 = KNeighborsRegressor(n_neighbors=5)  \n",
    "print(knn_model2)\n",
    "\n",
    "knn_model2.fit(de_X_train2, de_y_train)\n",
    "\n",
    "de_y_pred_knn2 = knn_model2.predict(de_X_valid2)\n",
    "\n",
    "spearman_corr_knn, _ = spearmanr(de_y_valid, de_y_pred_knn2)\n",
    "print(\"sc:\", spearman_corr_knn)\n",
    "\n",
    "mse_knn = mean_squared_error(de_y_valid, de_y_pred_knn2)\n",
    "print(\"mse:\", mse_knn)"
   ]
  },
  {
   "cell_type": "code",
   "execution_count": null,
   "metadata": {},
   "outputs": [],
   "source": []
  }
 ],
 "metadata": {
  "kernelspec": {
   "display_name": "base",
   "language": "python",
   "name": "python3"
  },
  "language_info": {
   "codemirror_mode": {
    "name": "ipython",
    "version": 3
   },
   "file_extension": ".py",
   "mimetype": "text/x-python",
   "name": "python",
   "nbconvert_exporter": "python",
   "pygments_lexer": "ipython3",
   "version": "3.9.18"
  }
 },
 "nbformat": 4,
 "nbformat_minor": 2
}
