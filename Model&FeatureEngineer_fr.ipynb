{
 "cells": [
  {
   "cell_type": "code",
   "execution_count": 266,
   "metadata": {},
   "outputs": [],
   "source": [
    "import pandas as pd\n",
    "from sklearn.model_selection import GridSearchCV\n",
    "import warnings\n",
    "from sklearn.model_selection import RandomizedSearchCV"
   ]
  },
  {
   "cell_type": "markdown",
   "metadata": {},
   "source": [
    "# FR"
   ]
  },
  {
   "cell_type": "code",
   "execution_count": 267,
   "metadata": {},
   "outputs": [
    {
     "data": {
      "text/html": [
       "<div>\n",
       "<style scoped>\n",
       "    .dataframe tbody tr th:only-of-type {\n",
       "        vertical-align: middle;\n",
       "    }\n",
       "\n",
       "    .dataframe tbody tr th {\n",
       "        vertical-align: top;\n",
       "    }\n",
       "\n",
       "    .dataframe thead th {\n",
       "        text-align: right;\n",
       "    }\n",
       "</style>\n",
       "<table border=\"1\" class=\"dataframe\">\n",
       "  <thead>\n",
       "    <tr style=\"text-align: right;\">\n",
       "      <th></th>\n",
       "      <th>ID</th>\n",
       "      <th>DAY_ID</th>\n",
       "      <th>FR_CONSUMPTION</th>\n",
       "      <th>FR_DE_EXCHANGE</th>\n",
       "      <th>FR_NET_EXPORT</th>\n",
       "      <th>FR_NET_IMPORT</th>\n",
       "      <th>FR_GAS</th>\n",
       "      <th>FR_COAL</th>\n",
       "      <th>FR_HYDRO</th>\n",
       "      <th>FR_NUCLEAR</th>\n",
       "      <th>FR_SOLAR</th>\n",
       "      <th>FR_WINDPOW</th>\n",
       "      <th>FR_RESIDUAL_LOAD</th>\n",
       "      <th>FR_RAIN</th>\n",
       "      <th>FR_WIND</th>\n",
       "      <th>FR_TEMP</th>\n",
       "      <th>GAS_RET</th>\n",
       "      <th>COAL_RET</th>\n",
       "      <th>CARBON_RET</th>\n",
       "      <th>TARGET</th>\n",
       "    </tr>\n",
       "  </thead>\n",
       "  <tbody>\n",
       "    <tr>\n",
       "      <th>1</th>\n",
       "      <td>1179</td>\n",
       "      <td>1</td>\n",
       "      <td>1.222131</td>\n",
       "      <td>-0.331356</td>\n",
       "      <td>0.778627</td>\n",
       "      <td>-0.778627</td>\n",
       "      <td>1.991028</td>\n",
       "      <td>-0.786509</td>\n",
       "      <td>0.709616</td>\n",
       "      <td>1.381575</td>\n",
       "      <td>0.485975</td>\n",
       "      <td>-0.172140</td>\n",
       "      <td>1.214288</td>\n",
       "      <td>-0.497520</td>\n",
       "      <td>-1.465608</td>\n",
       "      <td>0.231602</td>\n",
       "      <td>1.480313</td>\n",
       "      <td>0.931562</td>\n",
       "      <td>0.822047</td>\n",
       "      <td>-0.063369</td>\n",
       "    </tr>\n",
       "    <tr>\n",
       "      <th>2</th>\n",
       "      <td>1327</td>\n",
       "      <td>2</td>\n",
       "      <td>-0.667390</td>\n",
       "      <td>1.102015</td>\n",
       "      <td>0.256736</td>\n",
       "      <td>-0.256736</td>\n",
       "      <td>0.458302</td>\n",
       "      <td>-0.766904</td>\n",
       "      <td>-0.930172</td>\n",
       "      <td>-0.379230</td>\n",
       "      <td>1.032412</td>\n",
       "      <td>-0.844350</td>\n",
       "      <td>-0.540642</td>\n",
       "      <td>-0.372156</td>\n",
       "      <td>-0.926064</td>\n",
       "      <td>0.641235</td>\n",
       "      <td>1.802550</td>\n",
       "      <td>1.140920</td>\n",
       "      <td>0.900434</td>\n",
       "      <td>2.575976</td>\n",
       "    </tr>\n",
       "    <tr>\n",
       "      <th>3</th>\n",
       "      <td>2016</td>\n",
       "      <td>3</td>\n",
       "      <td>-0.834564</td>\n",
       "      <td>1.051716</td>\n",
       "      <td>-0.612133</td>\n",
       "      <td>0.612133</td>\n",
       "      <td>0.069297</td>\n",
       "      <td>-0.718729</td>\n",
       "      <td>-0.383690</td>\n",
       "      <td>-1.579208</td>\n",
       "      <td>2.986527</td>\n",
       "      <td>-0.718643</td>\n",
       "      <td>-0.856321</td>\n",
       "      <td>-1.118297</td>\n",
       "      <td>0.488650</td>\n",
       "      <td>-0.951057</td>\n",
       "      <td>0.440121</td>\n",
       "      <td>-0.064550</td>\n",
       "      <td>-0.032756</td>\n",
       "      <td>0.068905</td>\n",
       "    </tr>\n",
       "    <tr>\n",
       "      <th>4</th>\n",
       "      <td>2047</td>\n",
       "      <td>5</td>\n",
       "      <td>-0.470371</td>\n",
       "      <td>-0.144615</td>\n",
       "      <td>-1.811403</td>\n",
       "      <td>1.811403</td>\n",
       "      <td>0.528273</td>\n",
       "      <td>-0.766063</td>\n",
       "      <td>-0.398178</td>\n",
       "      <td>-1.866010</td>\n",
       "      <td>3.425813</td>\n",
       "      <td>-0.640389</td>\n",
       "      <td>-0.552878</td>\n",
       "      <td>-0.790071</td>\n",
       "      <td>0.021868</td>\n",
       "      <td>1.459745</td>\n",
       "      <td>-0.117977</td>\n",
       "      <td>0.550433</td>\n",
       "      <td>0.781870</td>\n",
       "      <td>1.031308</td>\n",
       "    </tr>\n",
       "    <tr>\n",
       "      <th>5</th>\n",
       "      <td>1995</td>\n",
       "      <td>7</td>\n",
       "      <td>-0.625625</td>\n",
       "      <td>-0.002239</td>\n",
       "      <td>-0.745182</td>\n",
       "      <td>0.745182</td>\n",
       "      <td>0.727314</td>\n",
       "      <td>-0.778036</td>\n",
       "      <td>-0.739291</td>\n",
       "      <td>-1.934168</td>\n",
       "      <td>2.276123</td>\n",
       "      <td>-0.079343</td>\n",
       "      <td>-0.806379</td>\n",
       "      <td>-0.663419</td>\n",
       "      <td>1.367421</td>\n",
       "      <td>0.954384</td>\n",
       "      <td>-0.379980</td>\n",
       "      <td>0.518459</td>\n",
       "      <td>-0.034642</td>\n",
       "      <td>-0.118915</td>\n",
       "    </tr>\n",
       "    <tr>\n",
       "      <th>...</th>\n",
       "      <td>...</td>\n",
       "      <td>...</td>\n",
       "      <td>...</td>\n",
       "      <td>...</td>\n",
       "      <td>...</td>\n",
       "      <td>...</td>\n",
       "      <td>...</td>\n",
       "      <td>...</td>\n",
       "      <td>...</td>\n",
       "      <td>...</td>\n",
       "      <td>...</td>\n",
       "      <td>...</td>\n",
       "      <td>...</td>\n",
       "      <td>...</td>\n",
       "      <td>...</td>\n",
       "      <td>...</td>\n",
       "      <td>...</td>\n",
       "      <td>...</td>\n",
       "      <td>...</td>\n",
       "      <td>...</td>\n",
       "    </tr>\n",
       "    <tr>\n",
       "      <th>844</th>\n",
       "      <td>1120</td>\n",
       "      <td>1205</td>\n",
       "      <td>-0.100235</td>\n",
       "      <td>-0.381612</td>\n",
       "      <td>0.106216</td>\n",
       "      <td>-0.106216</td>\n",
       "      <td>0.137448</td>\n",
       "      <td>0.578370</td>\n",
       "      <td>-0.191697</td>\n",
       "      <td>0.132869</td>\n",
       "      <td>0.127692</td>\n",
       "      <td>-0.389945</td>\n",
       "      <td>-0.019808</td>\n",
       "      <td>-0.435577</td>\n",
       "      <td>-0.667096</td>\n",
       "      <td>-0.481947</td>\n",
       "      <td>0.047390</td>\n",
       "      <td>0.562084</td>\n",
       "      <td>-0.954402</td>\n",
       "      <td>-0.028575</td>\n",
       "    </tr>\n",
       "    <tr>\n",
       "      <th>845</th>\n",
       "      <td>1721</td>\n",
       "      <td>1207</td>\n",
       "      <td>0.516789</td>\n",
       "      <td>-0.651648</td>\n",
       "      <td>-0.820640</td>\n",
       "      <td>0.820640</td>\n",
       "      <td>0.295393</td>\n",
       "      <td>-0.783923</td>\n",
       "      <td>-0.138441</td>\n",
       "      <td>-0.523101</td>\n",
       "      <td>1.539418</td>\n",
       "      <td>0.839589</td>\n",
       "      <td>0.236243</td>\n",
       "      <td>1.112782</td>\n",
       "      <td>-0.018442</td>\n",
       "      <td>-0.960526</td>\n",
       "      <td>0.099209</td>\n",
       "      <td>1.750872</td>\n",
       "      <td>0.646905</td>\n",
       "      <td>-0.729755</td>\n",
       "    </tr>\n",
       "    <tr>\n",
       "      <th>846</th>\n",
       "      <td>2039</td>\n",
       "      <td>1208</td>\n",
       "      <td>-0.709011</td>\n",
       "      <td>-0.427976</td>\n",
       "      <td>-1.678101</td>\n",
       "      <td>1.678101</td>\n",
       "      <td>0.179728</td>\n",
       "      <td>-0.758579</td>\n",
       "      <td>-0.380974</td>\n",
       "      <td>-1.903612</td>\n",
       "      <td>1.061313</td>\n",
       "      <td>-0.468104</td>\n",
       "      <td>-0.666261</td>\n",
       "      <td>2.661142</td>\n",
       "      <td>0.630211</td>\n",
       "      <td>-1.439105</td>\n",
       "      <td>0.291714</td>\n",
       "      <td>0.568479</td>\n",
       "      <td>0.395742</td>\n",
       "      <td>0.136028</td>\n",
       "    </tr>\n",
       "    <tr>\n",
       "      <th>848</th>\n",
       "      <td>1987</td>\n",
       "      <td>1212</td>\n",
       "      <td>-0.520506</td>\n",
       "      <td>0.270515</td>\n",
       "      <td>-0.789824</td>\n",
       "      <td>0.789824</td>\n",
       "      <td>0.625656</td>\n",
       "      <td>-0.776785</td>\n",
       "      <td>-0.906285</td>\n",
       "      <td>-1.434474</td>\n",
       "      <td>1.589641</td>\n",
       "      <td>-0.266687</td>\n",
       "      <td>-0.589767</td>\n",
       "      <td>-0.237434</td>\n",
       "      <td>1.123953</td>\n",
       "      <td>-0.308232</td>\n",
       "      <td>0.017778</td>\n",
       "      <td>0.072168</td>\n",
       "      <td>-0.160792</td>\n",
       "      <td>-0.425474</td>\n",
       "    </tr>\n",
       "    <tr>\n",
       "      <th>849</th>\n",
       "      <td>1688</td>\n",
       "      <td>1213</td>\n",
       "      <td>1.313254</td>\n",
       "      <td>0.456126</td>\n",
       "      <td>-0.069222</td>\n",
       "      <td>0.069222</td>\n",
       "      <td>1.549682</td>\n",
       "      <td>-0.291751</td>\n",
       "      <td>1.933776</td>\n",
       "      <td>0.258724</td>\n",
       "      <td>-0.365253</td>\n",
       "      <td>2.298943</td>\n",
       "      <td>0.868310</td>\n",
       "      <td>0.250384</td>\n",
       "      <td>0.120661</td>\n",
       "      <td>0.223629</td>\n",
       "      <td>-0.103642</td>\n",
       "      <td>-0.633007</td>\n",
       "      <td>0.214805</td>\n",
       "      <td>-3.003988</td>\n",
       "    </tr>\n",
       "  </tbody>\n",
       "</table>\n",
       "<p>727 rows × 20 columns</p>\n",
       "</div>"
      ],
      "text/plain": [
       "       ID  DAY_ID  FR_CONSUMPTION  FR_DE_EXCHANGE  FR_NET_EXPORT  \\\n",
       "1    1179       1        1.222131       -0.331356       0.778627   \n",
       "2    1327       2       -0.667390        1.102015       0.256736   \n",
       "3    2016       3       -0.834564        1.051716      -0.612133   \n",
       "4    2047       5       -0.470371       -0.144615      -1.811403   \n",
       "5    1995       7       -0.625625       -0.002239      -0.745182   \n",
       "..    ...     ...             ...             ...            ...   \n",
       "844  1120    1205       -0.100235       -0.381612       0.106216   \n",
       "845  1721    1207        0.516789       -0.651648      -0.820640   \n",
       "846  2039    1208       -0.709011       -0.427976      -1.678101   \n",
       "848  1987    1212       -0.520506        0.270515      -0.789824   \n",
       "849  1688    1213        1.313254        0.456126      -0.069222   \n",
       "\n",
       "     FR_NET_IMPORT    FR_GAS   FR_COAL  FR_HYDRO  FR_NUCLEAR  FR_SOLAR  \\\n",
       "1        -0.778627  1.991028 -0.786509  0.709616    1.381575  0.485975   \n",
       "2        -0.256736  0.458302 -0.766904 -0.930172   -0.379230  1.032412   \n",
       "3         0.612133  0.069297 -0.718729 -0.383690   -1.579208  2.986527   \n",
       "4         1.811403  0.528273 -0.766063 -0.398178   -1.866010  3.425813   \n",
       "5         0.745182  0.727314 -0.778036 -0.739291   -1.934168  2.276123   \n",
       "..             ...       ...       ...       ...         ...       ...   \n",
       "844      -0.106216  0.137448  0.578370 -0.191697    0.132869  0.127692   \n",
       "845       0.820640  0.295393 -0.783923 -0.138441   -0.523101  1.539418   \n",
       "846       1.678101  0.179728 -0.758579 -0.380974   -1.903612  1.061313   \n",
       "848       0.789824  0.625656 -0.776785 -0.906285   -1.434474  1.589641   \n",
       "849       0.069222  1.549682 -0.291751  1.933776    0.258724 -0.365253   \n",
       "\n",
       "     FR_WINDPOW  FR_RESIDUAL_LOAD   FR_RAIN   FR_WIND   FR_TEMP   GAS_RET  \\\n",
       "1     -0.172140          1.214288 -0.497520 -1.465608  0.231602  1.480313   \n",
       "2     -0.844350         -0.540642 -0.372156 -0.926064  0.641235  1.802550   \n",
       "3     -0.718643         -0.856321 -1.118297  0.488650 -0.951057  0.440121   \n",
       "4     -0.640389         -0.552878 -0.790071  0.021868  1.459745 -0.117977   \n",
       "5     -0.079343         -0.806379 -0.663419  1.367421  0.954384 -0.379980   \n",
       "..          ...               ...       ...       ...       ...       ...   \n",
       "844   -0.389945         -0.019808 -0.435577 -0.667096 -0.481947  0.047390   \n",
       "845    0.839589          0.236243  1.112782 -0.018442 -0.960526  0.099209   \n",
       "846   -0.468104         -0.666261  2.661142  0.630211 -1.439105  0.291714   \n",
       "848   -0.266687         -0.589767 -0.237434  1.123953 -0.308232  0.017778   \n",
       "849    2.298943          0.868310  0.250384  0.120661  0.223629 -0.103642   \n",
       "\n",
       "     COAL_RET  CARBON_RET    TARGET  \n",
       "1    0.931562    0.822047 -0.063369  \n",
       "2    1.140920    0.900434  2.575976  \n",
       "3   -0.064550   -0.032756  0.068905  \n",
       "4    0.550433    0.781870  1.031308  \n",
       "5    0.518459   -0.034642 -0.118915  \n",
       "..        ...         ...       ...  \n",
       "844  0.562084   -0.954402 -0.028575  \n",
       "845  1.750872    0.646905 -0.729755  \n",
       "846  0.568479    0.395742  0.136028  \n",
       "848  0.072168   -0.160792 -0.425474  \n",
       "849 -0.633007    0.214805 -3.003988  \n",
       "\n",
       "[727 rows x 20 columns]"
      ]
     },
     "execution_count": 267,
     "metadata": {},
     "output_type": "execute_result"
    }
   ],
   "source": [
    "fr_train = pd.read_csv(\"fr_train_DAY.csv\", index_col=0)\n",
    "fr_train"
   ]
  },
  {
   "cell_type": "code",
   "execution_count": 268,
   "metadata": {},
   "outputs": [],
   "source": [
    "fr_train['NEW_ENERGY'] = fr_train['FR_HYDRO'] + fr_train['FR_NUCLEAR'] + fr_train['FR_WINDPOW'] + fr_train['FR_SOLAR']\n",
    "fr_train['OLD_ENERGY'] = fr_train['FR_GAS'] + fr_train['FR_COAL']"
   ]
  },
  {
   "cell_type": "code",
   "execution_count": 269,
   "metadata": {},
   "outputs": [],
   "source": [
    "fr_train['WEEKDAY'] = fr_train['DAY_ID'] % 7 + 1 "
   ]
  },
  {
   "cell_type": "code",
   "execution_count": 270,
   "metadata": {},
   "outputs": [
    {
     "data": {
      "text/plain": [
       "Index(['DAY_ID', 'FR_CONSUMPTION', 'FR_DE_EXCHANGE', 'FR_NET_IMPORT', 'FR_GAS',\n",
       "       'FR_COAL', 'FR_HYDRO', 'FR_NUCLEAR', 'FR_SOLAR', 'FR_WINDPOW',\n",
       "       'FR_RESIDUAL_LOAD', 'FR_RAIN', 'FR_WIND', 'FR_TEMP', 'GAS_RET',\n",
       "       'COAL_RET', 'CARBON_RET', 'NEW_ENERGY', 'OLD_ENERGY', 'WEEKDAY'],\n",
       "      dtype='object')"
      ]
     },
     "execution_count": 270,
     "metadata": {},
     "output_type": "execute_result"
    }
   ],
   "source": [
    "fr_X = fr_train.drop(['ID', 'TARGET', 'FR_NET_EXPORT'], axis=1)\n",
    "fr_y = fr_train['TARGET']\n",
    "fr_X.columns"
   ]
  },
  {
   "cell_type": "code",
   "execution_count": 271,
   "metadata": {},
   "outputs": [
    {
     "name": "stdout",
     "output_type": "stream",
     "text": [
      "train dataset: (581, 20) (581,)\n",
      "validation dataset: (146, 20) (146,)\n"
     ]
    }
   ],
   "source": [
    "from sklearn.model_selection import train_test_split\n",
    "\n",
    "fr_X_train, fr_X_valid, fr_y_train, fr_y_valid = train_test_split(fr_X, fr_y, test_size=0.2, random_state=42)\n",
    "\n",
    "print(\"train dataset:\", fr_X_train.shape, fr_y_train.shape)\n",
    "print(\"validation dataset:\", fr_X_valid.shape, fr_y_valid.shape)"
   ]
  },
  {
   "cell_type": "markdown",
   "metadata": {},
   "source": [
    "# linear regression"
   ]
  },
  {
   "cell_type": "code",
   "execution_count": 272,
   "metadata": {},
   "outputs": [
    {
     "name": "stdout",
     "output_type": "stream",
     "text": [
      "LinearRegression()\n",
      "sc: 0.13320556930353264\n",
      "mse: 1.624969553390686\n"
     ]
    }
   ],
   "source": [
    "from sklearn.linear_model import LinearRegression\n",
    "from sklearn.metrics import mean_squared_error\n",
    "from scipy.stats import spearmanr\n",
    "\n",
    "lr_model = LinearRegression()\n",
    "print(lr_model)\n",
    "\n",
    "lr_model.fit(fr_X_train, fr_y_train)\n",
    "\n",
    "fr_y_pred_lr = lr_model.predict(fr_X_valid)\n",
    "\n",
    "spearman_corr, _ = spearmanr(fr_y_valid, fr_y_pred_lr)\n",
    "\n",
    "print(\"sc:\", spearman_corr)\n",
    "\n",
    "mse = mean_squared_error(fr_y_valid, fr_y_pred_lr)\n",
    "print(\"mse:\", mse)"
   ]
  },
  {
   "cell_type": "markdown",
   "metadata": {},
   "source": [
    "# random forest"
   ]
  },
  {
   "cell_type": "code",
   "execution_count": 273,
   "metadata": {},
   "outputs": [
    {
     "name": "stdout",
     "output_type": "stream",
     "text": [
      "RandomForestRegressor(random_state=42)\n",
      "sc: 0.16328859985605215\n",
      "mse: 1.658469432743062\n"
     ]
    }
   ],
   "source": [
    "from sklearn.ensemble import RandomForestRegressor\n",
    "from scipy.stats import spearmanr\n",
    "\n",
    "rf_model = RandomForestRegressor(random_state=42)\n",
    "print(rf_model)\n",
    "\n",
    "rf_model.fit(fr_X_train, fr_y_train)\n",
    "\n",
    "fr_y_pred_rf = rf_model.predict(fr_X_valid)\n",
    "\n",
    "spearman_corr_rf, _ = spearmanr(fr_y_valid, fr_y_pred_rf)\n",
    "print(\"sc:\", spearman_corr_rf)\n",
    "\n",
    "mse = mean_squared_error(fr_y_valid, fr_y_pred_rf)\n",
    "print(\"mse:\", mse)"
   ]
  },
  {
   "cell_type": "markdown",
   "metadata": {},
   "source": [
    "# gradientboost"
   ]
  },
  {
   "cell_type": "code",
   "execution_count": 274,
   "metadata": {},
   "outputs": [
    {
     "name": "stdout",
     "output_type": "stream",
     "text": [
      "GradientBoostingRegressor(random_state=42)\n",
      "sc: 0.05355870702547197\n",
      "mse: 1.8402023888278507\n"
     ]
    }
   ],
   "source": [
    "from sklearn.ensemble import GradientBoostingRegressor\n",
    "from scipy.stats import spearmanr\n",
    "\n",
    "gb_model = GradientBoostingRegressor(random_state=42)  \n",
    "print(gb_model)\n",
    "\n",
    "gb_model.fit(fr_X_train, fr_y_train)\n",
    "\n",
    "fr_y_pred_gb = gb_model.predict(fr_X_valid)\n",
    "\n",
    "spearman_corr_gb, _ = spearmanr(fr_y_valid, fr_y_pred_gb)\n",
    "print(\"sc:\", spearman_corr_gb)\n",
    "\n",
    "mse_gb = mean_squared_error(fr_y_valid, fr_y_pred_gb)\n",
    "print(\"mse:\", mse_gb)"
   ]
  },
  {
   "cell_type": "markdown",
   "metadata": {},
   "source": [
    "# adaboost"
   ]
  },
  {
   "cell_type": "code",
   "execution_count": 275,
   "metadata": {},
   "outputs": [
    {
     "name": "stdout",
     "output_type": "stream",
     "text": [
      "AdaBoostRegressor(random_state=42)\n",
      "sc: 0.1412209027815726\n",
      "mse: 1.6678718059489261\n"
     ]
    }
   ],
   "source": [
    "from sklearn.ensemble import AdaBoostRegressor\n",
    "from scipy.stats import spearmanr\n",
    "\n",
    "adaboost_model = AdaBoostRegressor(random_state=42)\n",
    "print(adaboost_model)\n",
    "\n",
    "adaboost_model.fit(fr_X_train, fr_y_train)\n",
    "\n",
    "fr_y_pred_adaboost = adaboost_model.predict(fr_X_valid)\n",
    "\n",
    "spearman_corr_adaboost, _ = spearmanr(fr_y_valid, fr_y_pred_adaboost)\n",
    "print(\"sc:\", spearman_corr_adaboost)\n",
    "\n",
    "mse_adaboost = mean_squared_error(fr_y_valid, fr_y_pred_adaboost)\n",
    "print(\"mse:\", mse_adaboost)"
   ]
  },
  {
   "cell_type": "markdown",
   "metadata": {},
   "source": [
    "# xgboost"
   ]
  },
  {
   "cell_type": "code",
   "execution_count": 276,
   "metadata": {},
   "outputs": [
    {
     "name": "stdout",
     "output_type": "stream",
     "text": [
      "XGBRegressor(base_score=None, booster=None, callbacks=None,\n",
      "             colsample_bylevel=None, colsample_bynode=None,\n",
      "             colsample_bytree=None, device=None, early_stopping_rounds=None,\n",
      "             enable_categorical=False, eval_metric=None, feature_types=None,\n",
      "             gamma=None, grow_policy=None, importance_type=None,\n",
      "             interaction_constraints=None, learning_rate=None, max_bin=None,\n",
      "             max_cat_threshold=None, max_cat_to_onehot=None,\n",
      "             max_delta_step=None, max_depth=None, max_leaves=None,\n",
      "             min_child_weight=None, missing=nan, monotone_constraints=None,\n",
      "             multi_strategy=None, n_estimators=None, n_jobs=None,\n",
      "             num_parallel_tree=None, random_state=42, ...)\n",
      "sc: 0.0795408207039795\n",
      "mse: 1.9264362016192866\n"
     ]
    }
   ],
   "source": [
    "from xgboost import XGBRegressor\n",
    "from scipy.stats import spearmanr\n",
    "\n",
    "xgb_model = XGBRegressor(objective='reg:squarederror', random_state=42) \n",
    "print(xgb_model)\n",
    "\n",
    "xgb_model.fit(fr_X_train, fr_y_train)\n",
    "\n",
    "fr_y_pred_xgb = xgb_model.predict(fr_X_valid)\n",
    "\n",
    "spearman_corr_xgb, _ = spearmanr(fr_y_valid, fr_y_pred_xgb)\n",
    "print(\"sc:\", spearman_corr_xgb)\n",
    "\n",
    "mse_xgb = mean_squared_error(fr_y_valid, fr_y_pred_xgb)\n",
    "print(\"mse:\", mse_xgb)"
   ]
  },
  {
   "cell_type": "markdown",
   "metadata": {},
   "source": [
    "# knn"
   ]
  },
  {
   "cell_type": "code",
   "execution_count": 277,
   "metadata": {},
   "outputs": [
    {
     "name": "stdout",
     "output_type": "stream",
     "text": [
      "KNeighborsRegressor()\n",
      "sc: -0.11886750800033584\n",
      "mse: 1.8901075438577983\n"
     ]
    }
   ],
   "source": [
    "from sklearn.neighbors import KNeighborsRegressor\n",
    "from scipy.stats import spearmanr\n",
    "\n",
    "knn_model = KNeighborsRegressor(n_neighbors=5)  \n",
    "print(knn_model)\n",
    "\n",
    "knn_model.fit(fr_X_train, fr_y_train)\n",
    "\n",
    "fr_y_pred_knn = knn_model.predict(fr_X_valid)\n",
    "\n",
    "spearman_corr_knn, _ = spearmanr(fr_y_valid, fr_y_pred_knn)\n",
    "print(\"sc:\", spearman_corr_knn)\n",
    "\n",
    "mse_knn = mean_squared_error(fr_y_valid, fr_y_pred_knn)\n",
    "print(\"mse:\", mse_knn)"
   ]
  },
  {
   "cell_type": "markdown",
   "metadata": {},
   "source": [
    "# svr"
   ]
  },
  {
   "cell_type": "code",
   "execution_count": 278,
   "metadata": {},
   "outputs": [
    {
     "name": "stdout",
     "output_type": "stream",
     "text": [
      "SVR(epsilon=0.2, kernel='linear')\n",
      "sc: 0.08380176395342306\n",
      "mse: 1.630190100619118\n"
     ]
    }
   ],
   "source": [
    "from sklearn.svm import SVR\n",
    "from scipy.stats import spearmanr\n",
    "\n",
    "svr_model = SVR(kernel='linear', C=1.0, epsilon=0.2)  \n",
    "print(svr_model)\n",
    "\n",
    "svr_model.fit(fr_X_train, fr_y_train)\n",
    "\n",
    "fr_y_pred_svr = svr_model.predict(fr_X_valid)\n",
    "\n",
    "spearman_corr_svr, _ = spearmanr(fr_y_valid, fr_y_pred_svr)\n",
    "print(\"sc:\", spearman_corr_svr)\n",
    "\n",
    "mse_svr = mean_squared_error(fr_y_valid, fr_y_pred_svr)\n",
    "print(\"mse:\", mse_svr)"
   ]
  }
 ],
 "metadata": {
  "kernelspec": {
   "display_name": "base",
   "language": "python",
   "name": "python3"
  },
  "language_info": {
   "codemirror_mode": {
    "name": "ipython",
    "version": 3
   },
   "file_extension": ".py",
   "mimetype": "text/x-python",
   "name": "python",
   "nbconvert_exporter": "python",
   "pygments_lexer": "ipython3",
   "version": "3.9.18"
  }
 },
 "nbformat": 4,
 "nbformat_minor": 2
}
